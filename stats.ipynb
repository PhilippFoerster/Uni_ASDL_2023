{
 "cells": [
  {
   "cell_type": "code",
   "execution_count": 2,
   "metadata": {},
   "outputs": [],
   "source": [
    "import json\n",
    "import numpy as np"
   ]
  },
  {
   "cell_type": "code",
   "execution_count": 3,
   "metadata": {},
   "outputs": [],
   "source": [
    "lengths=[]\n",
    "with open(\"dataset/train.jsonl\") as f:\n",
    "    for line in f:\n",
    "        js=json.loads(line.strip())\n",
    "        lengths.append(len(js['func'].split()))\n",
    "lengths=np.array(lengths)"
   ]
  },
  {
   "cell_type": "code",
   "execution_count": 5,
   "metadata": {},
   "outputs": [
    {
     "name": "stdout",
     "output_type": "stream",
     "text": [
      "total 21854\n",
      "max 12195\n",
      "min 4\n",
      "mean 187.05239315457123\n",
      "median 88.0\n",
      "std 386.8395647565934\n",
      "25 percentile 38.0\n",
      "50 percentile 88.0\n",
      "75 percentile 206.0\n",
      "90 percentile 417.7000000000007\n",
      "95 percentile 632.0\n",
      "99 percentile 1366.820000000007\n"
     ]
    }
   ],
   "source": [
    "print(\"total\", len(lengths))\n",
    "print(\"max\", np.max(lengths))\n",
    "print(\"min\", np.min(lengths))\n",
    "print(\"mean\", np.mean(lengths))\n",
    "print(\"median\", np.median(lengths))\n",
    "print(\"std\", np.std(lengths))\n",
    "print(\"25 percentile\", np.percentile(lengths, 25))\n",
    "print(\"50 percentile\", np.percentile(lengths, 50))\n",
    "print(\"75 percentile\", np.percentile(lengths, 75))\n",
    "print(\"90 percentile\", np.percentile(lengths, 90))\n",
    "print(\"95 percentile\", np.percentile(lengths, 95))\n",
    "print(\"99 percentile\", np.percentile(lengths, 99))"
   ]
  }
 ],
 "metadata": {
  "kernelspec": {
   "display_name": "tf2.10",
   "language": "python",
   "name": "python3"
  },
  "language_info": {
   "codemirror_mode": {
    "name": "ipython",
    "version": 3
   },
   "file_extension": ".py",
   "mimetype": "text/x-python",
   "name": "python",
   "nbconvert_exporter": "python",
   "pygments_lexer": "ipython3",
   "version": "3.9.16"
  },
  "orig_nbformat": 4
 },
 "nbformat": 4,
 "nbformat_minor": 2
}
