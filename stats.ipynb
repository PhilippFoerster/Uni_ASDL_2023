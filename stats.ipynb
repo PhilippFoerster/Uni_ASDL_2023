{
 "cells": [
  {
   "cell_type": "code",
   "execution_count": 1,
   "metadata": {},
   "outputs": [],
   "source": [
    "import json\n",
    "import numpy as np\n",
    "\n",
    "from transformers import RobertaTokenizerFast"
   ]
  },
  {
   "cell_type": "code",
   "execution_count": 2,
   "metadata": {},
   "outputs": [],
   "source": [
    "lengths=[]\n",
    "with open(\"dataset/train.jsonl\") as f:\n",
    "    for line in f:\n",
    "        js=json.loads(line.strip())\n",
    "        lengths.append(len(js['func'].split()))\n",
    "lengths=np.array(lengths)"
   ]
  },
  {
   "cell_type": "code",
   "execution_count": 3,
   "metadata": {},
   "outputs": [
    {
     "name": "stdout",
     "output_type": "stream",
     "text": [
      "number of samples 21854\n",
      "max 12195\n",
      "min 4\n",
      "mean 187.05239315457123\n",
      "median 88.0\n",
      "std 386.8395647565934\n",
      "25 percentile 38.0\n",
      "50 percentile 88.0\n",
      "75 percentile 206.0\n",
      "90 percentile 417.7000000000007\n",
      "95 percentile 632.0\n",
      "99 percentile 1366.820000000007\n"
     ]
    }
   ],
   "source": [
    "print(\"number of samples\", len(lengths))\n",
    "print(\"max\", np.max(lengths))\n",
    "print(\"min\", np.min(lengths))\n",
    "print(\"mean\", np.mean(lengths))\n",
    "print(\"median\", np.median(lengths))\n",
    "print(\"std\", np.std(lengths))\n",
    "print(\"25 percentile\", np.percentile(lengths, 25))\n",
    "print(\"50 percentile\", np.percentile(lengths, 50))\n",
    "print(\"75 percentile\", np.percentile(lengths, 75))\n",
    "print(\"90 percentile\", np.percentile(lengths, 90))\n",
    "print(\"95 percentile\", np.percentile(lengths, 95))\n",
    "print(\"99 percentile\", np.percentile(lengths, 99))"
   ]
  },
  {
   "cell_type": "code",
   "execution_count": 4,
   "metadata": {},
   "outputs": [
    {
     "name": "stderr",
     "output_type": "stream",
     "text": [
      "Token indices sequence length is longer than the specified maximum sequence length for this model (1121 > 512). Running this sequence through the model will result in indexing errors\n"
     ]
    }
   ],
   "source": [
    "tokenizer = RobertaTokenizerFast.from_pretrained(\"microsoft/codebert-base\", do_lower_case=True)\n",
    "lengths=[]\n",
    "with open(\"dataset/train.jsonl\") as f:\n",
    "    for line in f:\n",
    "        js=json.loads(line.strip())\n",
    "        lengths.append(len(tokenizer.tokenize(js['func'])))\n",
    "lengths=np.array(lengths)"
   ]
  },
  {
   "cell_type": "code",
   "execution_count": 5,
   "metadata": {},
   "outputs": [
    {
     "name": "stdout",
     "output_type": "stream",
     "text": [
      "number of samples 21854\n",
      "max 90858\n",
      "min 13\n",
      "mean 1119.3738446051066\n",
      "median 480.0\n",
      "std 2841.6545111507753\n",
      "25 percentile 201.0\n",
      "50 percentile 480.0\n",
      "75 percentile 1149.0\n",
      "90 percentile 2428.100000000002\n",
      "95 percentile 3794.0499999999956\n",
      "99 percentile 8851.920000000042\n"
     ]
    }
   ],
   "source": [
    "print(\"number of samples\", len(lengths))\n",
    "print(\"max\", np.max(lengths))\n",
    "print(\"min\", np.min(lengths))\n",
    "print(\"mean\", np.mean(lengths))\n",
    "print(\"median\", np.median(lengths))\n",
    "print(\"std\", np.std(lengths))\n",
    "print(\"25 percentile\", np.percentile(lengths, 25))\n",
    "print(\"50 percentile\", np.percentile(lengths, 50))\n",
    "print(\"75 percentile\", np.percentile(lengths, 75))\n",
    "print(\"90 percentile\", np.percentile(lengths, 90))\n",
    "print(\"95 percentile\", np.percentile(lengths, 95))\n",
    "print(\"99 percentile\", np.percentile(lengths, 99))"
   ]
  },
  {
   "cell_type": "code",
   "execution_count": 2,
   "metadata": {},
   "outputs": [
    {
     "name": "stderr",
     "output_type": "stream",
     "text": [
      "Token indices sequence length is longer than the specified maximum sequence length for this model (654 > 512). Running this sequence through the model will result in indexing errors\n"
     ]
    },
    {
     "name": "stdout",
     "output_type": "stream",
     "text": [
      "number of samples 21854\n",
      "max 36146\n",
      "min 10\n",
      "mean 558.2194106342089\n",
      "median 265.0\n",
      "std 1170.8240954763837\n",
      "25 percentile 118.0\n",
      "50 percentile 265.0\n",
      "75 percentile 601.0\n",
      "90 percentile 1218.7000000000007\n",
      "95 percentile 1889.0\n",
      "99 percentile 4161.700000000012\n"
     ]
    }
   ],
   "source": [
    "tokenizer = RobertaTokenizerFast.from_pretrained(\"microsoft/codebert-base\", do_lower_case=True)\n",
    "lengths=[]\n",
    "with open(\"dataset/train_renamed.jsonl\") as f:\n",
    "    for line in f:\n",
    "        js=json.loads(line.strip())\n",
    "        lengths.append(len(tokenizer.tokenize(js['func'])))\n",
    "lengths=np.array(lengths)\n",
    "\n",
    "print(\"number of samples\", len(lengths))\n",
    "print(\"max\", np.max(lengths))\n",
    "print(\"min\", np.min(lengths))\n",
    "print(\"mean\", np.mean(lengths))\n",
    "print(\"median\", np.median(lengths))\n",
    "print(\"std\", np.std(lengths))\n",
    "print(\"25 percentile\", np.percentile(lengths, 25))\n",
    "print(\"50 percentile\", np.percentile(lengths, 50))\n",
    "print(\"75 percentile\", np.percentile(lengths, 75))\n",
    "print(\"90 percentile\", np.percentile(lengths, 90))\n",
    "print(\"95 percentile\", np.percentile(lengths, 95))\n",
    "print(\"99 percentile\", np.percentile(lengths, 99))"
   ]
  }
 ],
 "metadata": {
  "kernelspec": {
   "display_name": "tf2.10",
   "language": "python",
   "name": "python3"
  },
  "language_info": {
   "codemirror_mode": {
    "name": "ipython",
    "version": 3
   },
   "file_extension": ".py",
   "mimetype": "text/x-python",
   "name": "python",
   "nbconvert_exporter": "python",
   "pygments_lexer": "ipython3",
   "version": "3.9.0"
  },
  "orig_nbformat": 4
 },
 "nbformat": 4,
 "nbformat_minor": 2
}
