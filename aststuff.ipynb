{
 "cells": [
  {
   "cell_type": "code",
   "execution_count": null,
   "metadata": {},
   "outputs": [],
   "source": [
    "import pycparser\n",
    "from pycparser import c_parser\n"
   ]
  },
  {
   "cell_type": "code",
   "execution_count": null,
   "metadata": {},
   "outputs": [],
   "source": [
    "pycparser.parse_file(\"test2.c\")"
   ]
  },
  {
   "cell_type": "code",
   "execution_count": null,
   "metadata": {},
   "outputs": [],
   "source": [
    "parser = c_parser.CParser()\n",
    "parser.parse(\"int maxout_in(int paste, char** matrix, AVFormatContext *s){char o = foo();return (int) matrix[1][2] * 5 - paste;}\")"
   ]
  },
  {
   "cell_type": "code",
   "execution_count": null,
   "metadata": {},
   "outputs": [],
   "source": [
    "import subprocess\n",
    "import os\n",
    "import shlex"
   ]
  },
  {
   "cell_type": "code",
   "execution_count": null,
   "metadata": {},
   "outputs": [],
   "source": [
    "output = subprocess.getoutput('srcml --text=\"int maxout_in(int paste, char** matrix, AVFormatContext *s){char o = foo();return (int) matrix[1][2] * 5 - paste;}\" --language C')\n",
    "output"
   ]
  },
  {
   "cell_type": "code",
   "execution_count": 9,
   "metadata": {},
   "outputs": [
    {
     "data": {
      "text/plain": [
       "'<?xml version=\"1.0\" encoding=\"UTF-8\" standalone=\"yes\"?>\\n<unit xmlns=\"http://www.srcML.org/srcML/src\" revision=\"1.0.0\" language=\"C\"><expr><literal type=\"char\">\\'\\'</literal><call><name>printf</name><argument_list>(<argument><expr><name>test</name></expr></argument>)</argument_list></call><literal type=\"char\">\\'\\'</literal></expr></unit>'"
      ]
     },
     "execution_count": 9,
     "metadata": {},
     "output_type": "execute_result"
    }
   ],
   "source": [
    "code = 'printf(\"test\")'\n",
    "code = shlex.quote(code)\n",
    "output = subprocess.getoutput(f'\"c:/program files/srcml/srcml.exe\" --language C --text=\\'{code}\\'')\n",
    "output"
   ]
  },
  {
   "cell_type": "code",
   "execution_count": null,
   "metadata": {},
   "outputs": [],
   "source": [
    "code = 'printf(\"test\")'\n",
    "output = subprocess.getoutput(['\"c:/program files/srcml/srcml.exe\"',  '--language', 'C'])\n",
    "output"
   ]
  },
  {
   "cell_type": "code",
   "execution_count": null,
   "metadata": {},
   "outputs": [],
   "source": [
    "test = 'printf(\"test\")'\n",
    "test2 = test.replace('\"', '\\\"')\n",
    "test3 = test.replace('\"', '\\\\\"')\n",
    "test4 = shlex.quote(test)\n",
    "command = f'\"c:/...\" --input=\"{test}\"'\n",
    "command2 = f'\"c:/...\" --input=\"{test2}\"'\n",
    "command3 = f'\"c:/...\" --input=\"{test3}\"'\n",
    "la = \"\""
   ]
  },
  {
   "cell_type": "code",
   "execution_count": 8,
   "metadata": {},
   "outputs": [
    {
     "name": "stdout",
     "output_type": "stream",
     "text": [
      "\"C:/...\" --input='printf(\"test\")'\n"
     ]
    }
   ],
   "source": [
    "import shlex\n",
    "\n",
    "test = 'printf(\"test\")'\n",
    "escaped_test = shlex.quote(test)\n",
    "command = f'\"C:/...\" --input={escaped_test}'\n",
    "\n",
    "print(command)"
   ]
  },
  {
   "cell_type": "code",
   "execution_count": 13,
   "metadata": {},
   "outputs": [
    {
     "data": {
      "text/plain": [
       "'<?xml version=\"1.0\" encoding=\"UTF-8\" standalone=\"yes\"?>\\n<unit xmlns=\"http://www.srcML.org/srcML/src\" xmlns:cpp=\"http://www.srcML.org/srcML/cpp\" revision=\"1.0.0\" language=\"C\" filename=\"temp.c\"><function><type><specifier>static</specifier> <name>av_cold</name> <name>int</name></type> <name>vdadec_init</name><parameter_list>(<parameter><decl><type><name>AVCodecContext</name> <modifier>*</modifier></type><name>avctx</name></decl></parameter>)</parameter_list>\\n\\n<block>{<block_content>\\n\\n    <decl_stmt><decl><type><name>VDADecoderContext</name> <modifier>*</modifier></type><name>ctx</name> <init>= <expr><name><name>avctx</name><operator>-&gt;</operator><name>priv_data</name></name></expr></init></decl>;</decl_stmt>\\n\\n    <decl_stmt><decl><type><name><name>struct</name> <name>vda_context</name></name> <modifier>*</modifier></type><name>vda_ctx</name> <init>= <expr><operator>&amp;</operator><name><name>ctx</name><operator>-&gt;</operator><name>vda_ctx</name></name></expr></init></decl>;</decl_stmt>\\n\\n    <decl_stmt><decl><type><name>OSStatus</name></type> <name>status</name></decl>;</decl_stmt>\\n\\n    <decl_stmt><decl><type><name>int</name></type> <name>ret</name></decl>;</decl_stmt>\\n\\n\\n\\n    <expr_stmt><expr><name><name>ctx</name><operator>-&gt;</operator><name>h264_initialized</name></name> <operator>=</operator> <literal type=\"number\">0</literal></expr>;</expr_stmt>\\n\\n\\n\\n    <comment type=\"block\">/* init pix_fmts of codec */</comment>\\n\\n    <if_stmt><if>if <condition>(<expr><operator>!</operator><name><name>ff_h264_vda_decoder</name><operator>.</operator><name>pix_fmts</name></name></expr>)</condition> <block>{<block_content>\\n\\n        <if_stmt><if>if <condition>(<expr><name>kCFCoreFoundationVersionNumber</name> <operator>&lt;</operator> <name>kCFCoreFoundationVersionNumber10_7</name></expr>)</condition><block type=\"pseudo\"><block_content>\\n\\n            <expr_stmt><expr><name><name>ff_h264_vda_decoder</name><operator>.</operator><name>pix_fmts</name></name> <operator>=</operator> <name>vda_pixfmts_prior_10_7</name></expr>;</expr_stmt></block_content></block></if>\\n\\n        <else>else<block type=\"pseudo\"><block_content>\\n\\n            <expr_stmt><expr><name><name>ff_h264_vda_decoder</name><operator>.</operator><name>pix_fmts</name></name> <operator>=</operator> <name>vda_pixfmts</name></expr>;</expr_stmt></block_content></block></else></if_stmt>\\n\\n    </block_content>}</block></if></if_stmt>\\n\\n\\n\\n    <comment type=\"block\">/* init vda */</comment>\\n\\n    <expr_stmt><expr><call><name>memset</name><argument_list>(<argument><expr><name>vda_ctx</name></expr></argument>, <argument><expr><literal type=\"number\">0</literal></expr></argument>, <argument><expr><sizeof>sizeof<argument_list>(<argument><expr>struct <name>vda_context</name></expr></argument>)</argument_list></sizeof></expr></argument>)</argument_list></call></expr>;</expr_stmt>\\n\\n    <expr_stmt><expr><name><name>vda_ctx</name><operator>-&gt;</operator><name>width</name></name> <operator>=</operator> <name><name>avctx</name><operator>-&gt;</operator><name>width</name></name></expr>;</expr_stmt>\\n\\n    <expr_stmt><expr><name><name>vda_ctx</name><operator>-&gt;</operator><name>height</name></name> <operator>=</operator> <name><name>avctx</name><operator>-&gt;</operator><name>height</name></name></expr>;</expr_stmt>\\n\\n    <expr_stmt><expr><name><name>vda_ctx</name><operator>-&gt;</operator><name>format</name></name> <operator>=</operator> <literal type=\"char\">\\'avc1\\'</literal></expr>;</expr_stmt>\\n\\n    <expr_stmt><expr><name><name>vda_ctx</name><operator>-&gt;</operator><name>use_sync_decoding</name></name> <operator>=</operator> <literal type=\"number\">1</literal></expr>;</expr_stmt>\\n\\n    <expr_stmt><expr><name><name>vda_ctx</name><operator>-&gt;</operator><name>use_ref_buffer</name></name> <operator>=</operator> <literal type=\"number\">1</literal></expr>;</expr_stmt>\\n\\n    <expr_stmt><expr><name><name>ctx</name><operator>-&gt;</operator><name>pix_fmt</name></name> <operator>=</operator> <call><name><name>avctx</name><operator>-&gt;</operator><name>get_format</name></name><argument_list>(<argument><expr><name>avctx</name></expr></argument>, <argument><expr><name><name>avctx</name><operator>-&gt;</operator><name>codec</name><operator>-&gt;</operator><name>pix_fmts</name></name></expr></argument>)</argument_list></call></expr>;</expr_stmt>\\n\\n    <switch>switch <condition>(<expr><name><name>ctx</name><operator>-&gt;</operator><name>pix_fmt</name></name></expr>)</condition> <block>{<block_content>\\n\\n    <case>case <expr><name>AV_PIX_FMT_UYVY422</name></expr>:</case>\\n\\n        <expr_stmt><expr><name><name>vda_ctx</name><operator>-&gt;</operator><name>cv_pix_fmt_type</name></name> <operator>=</operator> <literal type=\"char\">\\'2vuy\\'</literal></expr>;</expr_stmt>\\n\\n        <break>break;</break>\\n\\n    <case>case <expr><name>AV_PIX_FMT_YUYV422</name></expr>:</case>\\n\\n        <expr_stmt><expr><name><name>vda_ctx</name><operator>-&gt;</operator><name>cv_pix_fmt_type</name></name> <operator>=</operator> <literal type=\"char\">\\'yuvs\\'</literal></expr>;</expr_stmt>\\n\\n        <break>break;</break>\\n\\n    <case>case <expr><name>AV_PIX_FMT_NV12</name></expr>:</case>\\n\\n        <expr_stmt><expr><name><name>vda_ctx</name><operator>-&gt;</operator><name>cv_pix_fmt_type</name></name> <operator>=</operator> <literal type=\"char\">\\'420v\\'</literal></expr>;</expr_stmt>\\n\\n        <break>break;</break>\\n\\n    <case>case <expr><name>AV_PIX_FMT_YUV420P</name></expr>:</case>\\n\\n        <expr_stmt><expr><name><name>vda_ctx</name><operator>-&gt;</operator><name>cv_pix_fmt_type</name></name> <operator>=</operator> <literal type=\"char\">\\'y420\\'</literal></expr>;</expr_stmt>\\n\\n        <break>break;</break>\\n\\n    <default>default:</default>\\n\\n        <expr_stmt><expr><call><name>av_log</name><argument_list>(<argument><expr><name>avctx</name></expr></argument>, <argument><expr><name>AV_LOG_ERROR</name></expr></argument>, <argument><expr><literal type=\"string\">\"Unsupported pixel format: %d\\\\n\"</literal></expr></argument>, <argument><expr><name><name>avctx</name><operator>-&gt;</operator><name>pix_fmt</name></name></expr></argument>)</argument_list></call></expr>;</expr_stmt>\\n\\n        <goto>goto <name>failed</name>;</goto>\\n\\n    </block_content>}</block></switch>\\n\\n    <expr_stmt><expr><name>status</name> <operator>=</operator> <call><name>ff_vda_create_decoder</name><argument_list>(<argument><expr><name>vda_ctx</name></expr></argument>,\\n\\n                                   <argument><expr><name><name>avctx</name><operator>-&gt;</operator><name>extradata</name></name></expr></argument>, <argument><expr><name><name>avctx</name><operator>-&gt;</operator><name>extradata_size</name></name></expr></argument>)</argument_list></call></expr>;</expr_stmt>\\n\\n    <if_stmt><if>if <condition>(<expr><name>status</name> <operator>!=</operator> <name>kVDADecoderNoErr</name></expr>)</condition> <block>{<block_content>\\n\\n        <expr_stmt><expr><call><name>av_log</name><argument_list>(<argument><expr><name>avctx</name></expr></argument>, <argument><expr><name>AV_LOG_ERROR</name></expr></argument>,\\n\\n                <argument><expr><literal type=\"string\">\"Failed to init VDA decoder: %d.\\\\n\"</literal></expr></argument>, <argument><expr><name>status</name></expr></argument>)</argument_list></call></expr>;</expr_stmt>\\n\\n        <goto>goto <name>failed</name>;</goto>\\n\\n    </block_content>}</block></if></if_stmt>\\n\\n    <expr_stmt><expr><name><name>avctx</name><operator>-&gt;</operator><name>hwaccel_context</name></name> <operator>=</operator> <name>vda_ctx</name></expr>;</expr_stmt>\\n\\n\\n\\n    <comment type=\"block\">/* changes callback functions */</comment>\\n\\n    <expr_stmt><expr><name><name>avctx</name><operator>-&gt;</operator><name>get_format</name></name> <operator>=</operator> <name>get_format</name></expr>;</expr_stmt>\\n\\n    <expr_stmt><expr><name><name>avctx</name><operator>-&gt;</operator><name>get_buffer2</name></name> <operator>=</operator> <name>get_buffer2</name></expr>;</expr_stmt>\\n\\n<cpp:if>#<cpp:directive>if</cpp:directive> <expr><name>FF_API_GET_BUFFER</name></expr></cpp:if>\\n\\n    <comment type=\"line\">// force the old get_buffer to be empty</comment>\\n\\n    <expr_stmt><expr><name><name>avctx</name><operator>-&gt;</operator><name>get_buffer</name></name> <operator>=</operator> <name>NULL</name></expr>;</expr_stmt>\\n\\n<cpp:endif>#<cpp:directive>endif</cpp:directive></cpp:endif>\\n\\n\\n\\n    <comment type=\"block\">/* init H.264 decoder */</comment>\\n\\n    <expr_stmt><expr><name>ret</name> <operator>=</operator> <call><name><name>ff_h264_decoder</name><operator>.</operator><name>init</name></name><argument_list>(<argument><expr><name>avctx</name></expr></argument>)</argument_list></call></expr>;</expr_stmt>\\n\\n    <if_stmt><if>if <condition>(<expr><name>ret</name> <operator>&lt;</operator> <literal type=\"number\">0</literal></expr>)</condition> <block>{<block_content>\\n\\n        <expr_stmt><expr><call><name>av_log</name><argument_list>(<argument><expr><name>avctx</name></expr></argument>, <argument><expr><name>AV_LOG_ERROR</name></expr></argument>, <argument><expr><literal type=\"string\">\"Failed to open H.264 decoder.\\\\n\"</literal></expr></argument>)</argument_list></call></expr>;</expr_stmt>\\n\\n        <goto>goto <name>failed</name>;</goto>\\n\\n    </block_content>}</block></if></if_stmt>\\n\\n    <expr_stmt><expr><name><name>ctx</name><operator>-&gt;</operator><name>h264_initialized</name></name> <operator>=</operator> <literal type=\"number\">1</literal></expr>;</expr_stmt>\\n\\n\\n\\n    <return>return <expr><literal type=\"number\">0</literal></expr>;</return>\\n\\n\\n\\n<label><name>failed</name>:</label>\\n\\n    <expr_stmt><expr><call><name>vdadec_close</name><argument_list>(<argument><expr><name>avctx</name></expr></argument>)</argument_list></call></expr>;</expr_stmt>\\n\\n    <return>return <expr><operator>-</operator><literal type=\"number\">1</literal></expr>;</return>\\n\\n</block_content>}</block></function>\\n</unit>'"
      ]
     },
     "execution_count": 13,
     "metadata": {},
     "output_type": "execute_result"
    }
   ],
   "source": [
    "output = subprocess.getoutput(f'\"c:/program files/srcml/srcml.exe\" temp.c')\n",
    "output"
   ]
  },
  {
   "cell_type": "code",
   "execution_count": 8,
   "metadata": {},
   "outputs": [
    {
     "name": "stdout",
     "output_type": "stream",
     "text": [
      "<include> 6\n",
      "<elif> 58\n",
      "<ifdef> 465\n",
      "<pattern> 1\n",
      "<table> 1\n",
      "<endif> 918\n",
      "<directive> 2272\n",
      "<asm> 88\n",
      "<parameter_list> 2757\n",
      "<QEMU> 2\n",
      "<incr> 2284\n",
      "<macro> 595\n",
      "<expr_stmt> 48882\n",
      "<undef> 23\n",
      "<drc_index> 1\n",
      "<control> 2284\n",
      "<argument_list> 40020\n",
      "<parameter> 7702\n",
      "<union> 6\n",
      "<th> 15\n",
      "<tr> 6\n",
      "<index> 18227\n",
      "<decl_stmt> 11730\n",
      "<function_decl> 39\n",
      "<comment> 8533\n",
      "<struct> 12\n",
      "<argument> 87207\n",
      "<enum> 9\n",
      "<default> 484\n",
      "<namespace> 1\n",
      "<file> 8\n",
      "<id> 1\n",
      "<type> 25114\n",
      "<html> 1\n",
      "<call> 38033\n",
      "<p> 1\n",
      "<then> 765\n",
      "<empty_stmt> 60\n",
      "<label> 422\n",
      "<hiword> 1\n",
      "<specifier> 4070\n",
      "<error> 5\n",
      "<define> 170\n",
      "<display> 1\n",
      "<head> 1\n",
      "<td> 15\n",
      "<null> 1\n",
      "<ternary> 765\n",
      "<b> 1\n",
      "<title> 1\n",
      "<ifndef> 32\n",
      "<body> 1\n",
      "<br> 9\n",
      "<decl> 22343\n",
      "<noid> 1\n",
      "<condition> 18379\n",
      "<init> 8589\n"
     ]
    }
   ],
   "source": [
    "import re\n",
    "\n",
    "with open(\"dataset/test_ast_no_tokens.jsonl\", 'r') as f:\n",
    "    lines = f.readlines()\n",
    "    #count all words staring with < and ending with >\n",
    "    tokens = set()\n",
    "    for line in lines:\n",
    "        tokens.update(re.findall(r'<[a-zA-Z_]+>', line))\n",
    "    tokens = list(tokens)\n",
    "\n",
    "    #find count of tokens in file\n",
    "    token_counts = {}\n",
    "    for token in tokens:\n",
    "        token_counts[token] = 0\n",
    "    for line in lines:\n",
    "        for token in tokens:\n",
    "            token_counts[token] += line.count(token)\n",
    "for token in tokens:\n",
    "    print(token, token_counts[token])"
   ]
  },
  {
   "cell_type": "code",
   "execution_count": 12,
   "metadata": {},
   "outputs": [
    {
     "name": "stdout",
     "output_type": "stream",
     "text": [
      "0.4035206499661476 0.5195219123505976\n"
     ]
    }
   ],
   "source": [
    "import json\n",
    "index_count_0 = 0\n",
    "index_count_1 = 0\n",
    "samples_0 = 0\n",
    "samples_1 = 0\n",
    "with open(\"dataset/test_ast_no_tokens.jsonl\", 'r') as f:\n",
    "    lines = f.readlines()\n",
    "    for line in lines:\n",
    "        data = json.loads(line)\n",
    "        #count occurrences of \"<index>\" in data['func']\n",
    "        count = data['func'].count('buffer')\n",
    "        if data['target'] == 0:\n",
    "            index_count_0 += count\n",
    "            samples_0 += 1\n",
    "        else:\n",
    "            index_count_1 += count\n",
    "            samples_1 += 1\n",
    "\n",
    "print(index_count_0/samples_0, index_count_1/samples_1)"
   ]
  }
 ],
 "metadata": {
  "kernelspec": {
   "display_name": "asdl",
   "language": "python",
   "name": "python3"
  },
  "language_info": {
   "codemirror_mode": {
    "name": "ipython",
    "version": 3
   },
   "file_extension": ".py",
   "mimetype": "text/x-python",
   "name": "python",
   "nbconvert_exporter": "python",
   "pygments_lexer": "ipython3",
   "version": "3.9.0"
  },
  "orig_nbformat": 4
 },
 "nbformat": 4,
 "nbformat_minor": 2
}
