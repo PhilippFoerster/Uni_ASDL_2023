{
 "cells": [
  {
   "cell_type": "code",
   "execution_count": 1,
   "metadata": {},
   "outputs": [],
   "source": [
    "import torch\n",
    "from torch.utils.data import Dataset, DataLoader\n",
    "from torch.optim import AdamW\n",
    "from torch.nn import BCEWithLogitsLoss, MSELoss\n",
    "from transformers import RobertaTokenizerFast, RobertaConfig, RobertaModel, RobertaForSequenceClassification, get_linear_schedule_with_warmup\n",
    "import json\n",
    "from tqdm import tqdm\n",
    "import numpy as np\n",
    "import matplotlib.pyplot as plt\n",
    "from model import Model\n",
    "import time"
   ]
  },
  {
   "cell_type": "code",
   "execution_count": 2,
   "metadata": {},
   "outputs": [
    {
     "name": "stderr",
     "output_type": "stream",
     "text": [
      "Some weights of the model checkpoint at microsoft/codebert-base were not used when initializing RobertaForSequenceClassification: ['pooler.dense.bias', 'pooler.dense.weight']\n",
      "- This IS expected if you are initializing RobertaForSequenceClassification from the checkpoint of a model trained on another task or with another architecture (e.g. initializing a BertForSequenceClassification model from a BertForPreTraining model).\n",
      "- This IS NOT expected if you are initializing RobertaForSequenceClassification from the checkpoint of a model that you expect to be exactly identical (initializing a BertForSequenceClassification model from a BertForSequenceClassification model).\n",
      "Some weights of RobertaForSequenceClassification were not initialized from the model checkpoint at microsoft/codebert-base and are newly initialized: ['classifier.out_proj.weight', 'classifier.dense.weight', 'classifier.dense.bias', 'classifier.out_proj.bias']\n",
      "You should probably TRAIN this model on a down-stream task to be able to use it for predictions and inference.\n"
     ]
    },
    {
     "data": {
      "text/plain": [
       "RobertaForSequenceClassification(\n",
       "  (roberta): RobertaModel(\n",
       "    (embeddings): RobertaEmbeddings(\n",
       "      (word_embeddings): Embedding(50265, 768, padding_idx=1)\n",
       "      (position_embeddings): Embedding(514, 768, padding_idx=1)\n",
       "      (token_type_embeddings): Embedding(1, 768)\n",
       "      (LayerNorm): LayerNorm((768,), eps=1e-05, elementwise_affine=True)\n",
       "      (dropout): Dropout(p=0.1, inplace=False)\n",
       "    )\n",
       "    (encoder): RobertaEncoder(\n",
       "      (layer): ModuleList(\n",
       "        (0-11): 12 x RobertaLayer(\n",
       "          (attention): RobertaAttention(\n",
       "            (self): RobertaSelfAttention(\n",
       "              (query): Linear(in_features=768, out_features=768, bias=True)\n",
       "              (key): Linear(in_features=768, out_features=768, bias=True)\n",
       "              (value): Linear(in_features=768, out_features=768, bias=True)\n",
       "              (dropout): Dropout(p=0.1, inplace=False)\n",
       "            )\n",
       "            (output): RobertaSelfOutput(\n",
       "              (dense): Linear(in_features=768, out_features=768, bias=True)\n",
       "              (LayerNorm): LayerNorm((768,), eps=1e-05, elementwise_affine=True)\n",
       "              (dropout): Dropout(p=0.1, inplace=False)\n",
       "            )\n",
       "          )\n",
       "          (intermediate): RobertaIntermediate(\n",
       "            (dense): Linear(in_features=768, out_features=3072, bias=True)\n",
       "            (intermediate_act_fn): GELUActivation()\n",
       "          )\n",
       "          (output): RobertaOutput(\n",
       "            (dense): Linear(in_features=3072, out_features=768, bias=True)\n",
       "            (LayerNorm): LayerNorm((768,), eps=1e-05, elementwise_affine=True)\n",
       "            (dropout): Dropout(p=0.1, inplace=False)\n",
       "          )\n",
       "        )\n",
       "      )\n",
       "    )\n",
       "  )\n",
       "  (classifier): RobertaClassificationHead(\n",
       "    (dense): Linear(in_features=768, out_features=768, bias=True)\n",
       "    (dropout): Dropout(p=0.1, inplace=False)\n",
       "    (out_proj): Linear(in_features=768, out_features=1, bias=True)\n",
       "  )\n",
       ")"
      ]
     },
     "execution_count": 2,
     "metadata": {},
     "output_type": "execute_result"
    }
   ],
   "source": [
    "device = torch.device(\"cuda\" if torch.cuda.is_available() else \"cpu\")\n",
    "tokenizer = RobertaTokenizerFast.from_pretrained(\"microsoft/codebert-base\", do_lower_case=True)\n",
    "\n",
    "config = RobertaConfig.from_pretrained(\"microsoft/codebert-base\")\n",
    "config.num_labels = 1\n",
    "model = RobertaForSequenceClassification.from_pretrained(\"microsoft/codebert-base\", config=config)\n",
    "model.to(device)\n",
    "#model = Model(model)\n",
    "#model.to(device)"
   ]
  },
  {
   "cell_type": "code",
   "execution_count": null,
   "metadata": {},
   "outputs": [],
   "source": [
    "tokens = [\"<type>\", \"<specifier>\", \"<decl>\", \"<parameter_list>\", \"<decl_stmt>\", \"<comment>\", \"<directive>\", \"<parameter_list>\", \"<expr_stmt>\", \"<control>\", \"<argument_list>\", \"<parameter>\", \"<index>\",\n",
    "          \"<argument>\", \"<default>\", \"<call>\", \"<then>\", \"<label>\", \"<ternary>\", \"<condition>\", \"<init>\"]\n",
    "tokenizer.add_tokens(tokens)\n",
    "model.resize_token_embeddings(len(tokenizer))"
   ]
  },
  {
   "cell_type": "code",
   "execution_count": null,
   "metadata": {},
   "outputs": [],
   "source": [
    "import dataset.optimize_data as rename\n",
    "tokenizer.add_tokens(rename.keywords)\n",
    "tokenizer.add_tokens(rename.standard_lib_funcs)\n",
    "model.resize_token_embeddings(len(tokenizer))"
   ]
  },
  {
   "cell_type": "code",
   "execution_count": null,
   "metadata": {},
   "outputs": [],
   "source": [
    "high_freq_words = ['avctx','goto','uintt','sizeof','uint8t','avlog','codec','intt','\\\\n\\\\t','AVLOGERROR','\\\\n','pkt','dst','errp','opaque','arg1','channels','bufsize','ifdef','AVERROR','fprintf','linesize','samples','sps','d\\\\n','cpuenv','stderr','opcode','cpuR','arg2','opts','AVERRORINVALIDDATA','stride','getbits','t1','t0','avpkt','cpuT0','geterrno','memcpy','codecid','privdata','vdev','memset','pts','strcmp','ENOMEM','packet','AVCodecContext','0x','mbx','tcgtempfree','cpuir','localerr','gfree','streams','timebase','samplerate','TCGv','getbits1','idx','EINVAL','arg3','mbtype','modrm','movq','mv','amlappend','spapr','mby','tempblock','tb','regs','mm0','pixfmt','FIXME','qemu','errorsetg','bitrate','s\\\\n','scan8','DPRINTF','codectype','BlockDriverState','targetulong','irq','TCGvi','errorreport','0xff','extradata','acb','streamindex','avfreep','0xf','hci','mm1','blk','AVFrame','predictor','ramsize','cpumodel','avfree','pcstart','picttype','datasize','nbsectors','qxl','AVFormatContext','0x00','alac','CPUState','sizet','invalid','strlen','snprintf','REGa','framesize','chr','avmallocz','qiov','errno','t2','RRRS','mm2','xfer','tcgtempnew','aviorb','s\\'','nbstreams','memidx','pfl','kernelfilename','nbsamples','entries','AVNOPTSVALUE','tcgtempfreei','cpuA0','qdev','AVPacket','saddr','src2','tcgtempnewi','sectornum','dinfo','retval','RRRT','putbits','hdr','tmpz','csbase','insn','i8','gmalloc0','mm3','targetphysaddrt','efault','qemuirq','refcount','INTMAX','EIO','AVLOGDEBUG','AVRL','src1','tmp1','unlockuser','RRRR','tcggenmovii','unimplemented','Rn','AVLOGWARNING','fmt','motionval','cnt','FFMIN','mm4','xen9pdev','fdt','tcgconsti','xendev','exceptionindex','AVStream','timestamp','islit','avmalloc','MemoryRegion','putuser','cputmp2i','0x80','currentpictureptr','op1','mbheight','cputobe','dstFormat','illegalop','mbwidth']\n",
    "tokenizer.add_tokens(high_freq_words)\n",
    "model.resize_token_embeddings(len(tokenizer))"
   ]
  },
  {
   "cell_type": "code",
   "execution_count": 5,
   "metadata": {},
   "outputs": [],
   "source": [
    "max_length = 512\n",
    "\n",
    "def convert_examples_to_features(js):\n",
    "    code=' '.join(js['func'].split())\n",
    "    inputs = tokenizer(\n",
    "        code, \n",
    "        max_length=max_length, \n",
    "        return_tensors=\"pt\",\n",
    "        padding=\"max_length\",\n",
    "        truncation=True\n",
    "    )\n",
    "    return inputs, js['target']\n",
    "\n",
    "def convert_examples_to_features2(js):\n",
    "    code=' '.join(js['func'].split())\n",
    "    code_tokens = tokenizer.tokenize(code, return_tensors=\"pt\", max_length=510, padding=\"max_length\")\n",
    "    token_count = len(code_tokens)\n",
    "    code_tokens = code_tokens[:510]\n",
    "    source_tokens =[tokenizer.cls_token]+code_tokens+[tokenizer.sep_token]\n",
    "    source_ids =  tokenizer.convert_tokens_to_ids(source_tokens)\n",
    "    source_ids = torch.tensor(source_ids)\n",
    "    return {\"input_ids\": source_ids, \"attention_mask\": source_ids.ne(1)}, js['target'], token_count\n",
    "\n",
    "class CustomDataset(Dataset):\n",
    "    def __init__(self, file_path, skip):\n",
    "        self.examples = []\n",
    "        with open(file_path) as f:\n",
    "            for line in f:\n",
    "                js=json.loads(line.strip())\n",
    "                input, target, token_count = convert_examples_to_features2(js)\n",
    "                if token_count > 800 and skip:\n",
    "                    continue\n",
    "                self.examples.append([input, target])\n",
    "\n",
    "    def __len__(self):\n",
    "        return len(self.examples)\n",
    "\n",
    "    def __getitem__(self, i):       \n",
    "        return self.examples[i][0], self.examples[i][1]"
   ]
  },
  {
   "cell_type": "code",
   "execution_count": 6,
   "metadata": {},
   "outputs": [
    {
     "data": {
      "text/plain": [
       "17954"
      ]
     },
     "execution_count": 6,
     "metadata": {},
     "output_type": "execute_result"
    }
   ],
   "source": [
    "train_dataset = CustomDataset('dataset/train_renamed.jsonl', True)\n",
    "len(train_dataset)"
   ]
  },
  {
   "cell_type": "code",
   "execution_count": 7,
   "metadata": {},
   "outputs": [],
   "source": [
    "batch_size = 4\n",
    "train_dataloader = DataLoader(train_dataset, batch_size=batch_size, pin_memory=True, shuffle=True)"
   ]
  },
  {
   "cell_type": "code",
   "execution_count": 8,
   "metadata": {},
   "outputs": [
    {
     "data": {
      "text/plain": [
       "2732"
      ]
     },
     "execution_count": 8,
     "metadata": {},
     "output_type": "execute_result"
    }
   ],
   "source": [
    "test_dataset = CustomDataset('dataset/test_renamed.jsonl', False)\n",
    "batch_size = 4\n",
    "test_dataloader = DataLoader(test_dataset, batch_size=batch_size, pin_memory=True, shuffle=False)\n",
    "len(test_dataset)"
   ]
  },
  {
   "cell_type": "code",
   "execution_count": 9,
   "metadata": {},
   "outputs": [],
   "source": [
    "adam_epsilon = 1e-8\n",
    "learning_rate = 2e-5\n",
    "max_grad_norm = 1.0\n",
    "weight_decay = 0.00\n",
    "no_decay = ['bias', 'LayerNorm.weight']\n",
    "epochs = 5\n",
    "max_steps = epochs * len(train_dataloader)\n",
    "optimizer_grouped_parameters = [\n",
    "    {'params': [p for n, p in model.named_parameters() if not any(nd in n for nd in no_decay)], 'weight_decay': weight_decay},\n",
    "    {'params': [p for n, p in model.named_parameters() if any(nd in n for nd in no_decay)], 'weight_decay': 0.0}\n",
    "]\n",
    "optimizer = AdamW(optimizer_grouped_parameters, lr=learning_rate, eps=adam_epsilon)\n",
    "scheduler = get_linear_schedule_with_warmup(optimizer, num_warmup_steps=max_steps * 0.1, num_training_steps=max_steps)"
   ]
  },
  {
   "cell_type": "code",
   "execution_count": 10,
   "metadata": {},
   "outputs": [],
   "source": [
    "update_loss_steps = 100"
   ]
  },
  {
   "cell_type": "code",
   "execution_count": 11,
   "metadata": {},
   "outputs": [
    {
     "name": "stderr",
     "output_type": "stream",
     "text": [
      "Epoch 0: loss 0.6835, acc 0.5620: 100%|██████████| 4489/4489 [14:48<00:00,  5.05it/s]\n",
      "100%|██████████| 683/683 [00:41<00:00, 16.62it/s]\n"
     ]
    },
    {
     "name": "stdout",
     "output_type": "stream",
     "text": [
      "Test set: loss 0.6570, acc 0.5864\n"
     ]
    },
    {
     "name": "stderr",
     "output_type": "stream",
     "text": [
      "Epoch 1: loss 0.6401, acc 0.6272: 100%|██████████| 4489/4489 [14:40<00:00,  5.10it/s]\n",
      "100%|██████████| 683/683 [00:41<00:00, 16.63it/s]\n"
     ]
    },
    {
     "name": "stdout",
     "output_type": "stream",
     "text": [
      "Test set: loss 0.6335, acc 0.6138\n"
     ]
    },
    {
     "name": "stderr",
     "output_type": "stream",
     "text": [
      "Epoch 2: loss 0.5760, acc 0.7049: 100%|██████████| 4489/4489 [14:33<00:00,  5.14it/s]\n",
      "100%|██████████| 683/683 [00:40<00:00, 16.80it/s]\n"
     ]
    },
    {
     "name": "stdout",
     "output_type": "stream",
     "text": [
      "Test set: loss 0.6515, acc 0.6464\n"
     ]
    },
    {
     "name": "stderr",
     "output_type": "stream",
     "text": [
      "Epoch 3: loss 0.5407, acc 0.7788: 100%|██████████| 4489/4489 [14:31<00:00,  5.15it/s]\n",
      "100%|██████████| 683/683 [00:40<00:00, 16.80it/s]\n"
     ]
    },
    {
     "name": "stdout",
     "output_type": "stream",
     "text": [
      "Test set: loss 1.0327, acc 0.6409\n"
     ]
    },
    {
     "name": "stderr",
     "output_type": "stream",
     "text": [
      "Epoch 4: loss 0.5320, acc 0.8322: 100%|██████████| 4489/4489 [14:31<00:00,  5.15it/s]\n",
      "100%|██████████| 683/683 [00:40<00:00, 16.79it/s]\n"
     ]
    },
    {
     "name": "stdout",
     "output_type": "stream",
     "text": [
      "Test set: loss 1.3143, acc 0.6376\n"
     ]
    }
   ],
   "source": [
    "stats = []\n",
    "for i, epoch in enumerate(range(epochs)):\n",
    "    #TRAINING\n",
    "    bar = tqdm(train_dataloader,total=len(train_dataloader))\n",
    "    bar.set_description(f\"Epoch {epoch}\")\n",
    "    model.train()\n",
    "    total_loss = 0\n",
    "    val_results = []\n",
    "    val_labels = []\n",
    "    for step, batch in enumerate(bar):\n",
    "        inputs = batch[0]\n",
    "        inputs = {key: value.squeeze(1).to(device) for key, value in inputs.items()}\n",
    "        labels = batch[1].to(device)\n",
    "        ids, mask = inputs['input_ids'], inputs['attention_mask']\n",
    "        #outputs = model(**inputs)\n",
    "        outputs = model(ids, mask)\n",
    "        #result = outputs[:,0]\n",
    "        result = outputs.logits[:,0]\n",
    "        loss = BCEWithLogitsLoss()(result, labels.float())\n",
    "        loss.backward()\n",
    "        torch.nn.utils.clip_grad_norm_(model.parameters(), max_grad_norm)\n",
    "        optimizer.step()\n",
    "        optimizer.zero_grad()\n",
    "        scheduler.step()\n",
    "        total_loss += loss.mean().item()\n",
    "        val_results.append(result.cpu().detach().numpy())\n",
    "        val_labels.append(labels.cpu().numpy())\n",
    "        if step % update_loss_steps == 99:\n",
    "            results=np.concatenate(val_results,0)\n",
    "            labels=np.concatenate(val_labels,0)\n",
    "            preds=results>0.5\n",
    "            eval_acc=np.mean(labels==preds)\n",
    "            loss = total_loss / step\n",
    "            stats.append({'steps': (epoch*len(train_dataloader))+step, 'loss': loss, 'acc': eval_acc})\n",
    "            bar.set_description(f\"Epoch {epoch}: loss {loss:.4f}, acc {eval_acc:.4f}\")\n",
    "    \n",
    "    #EVAL\n",
    "    model.eval()\n",
    "    with torch.no_grad():\n",
    "        bar = tqdm(test_dataloader,total=len(test_dataloader))\n",
    "        total_loss = 0\n",
    "        val_results = []\n",
    "        val_labels = []\n",
    "        for step, batch in enumerate(bar):\n",
    "            inputs = batch[0]\n",
    "            inputs = {key: value.squeeze(1).to(device) for key, value in inputs.items()}\n",
    "            labels = batch[1].to(device)\n",
    "            ids, mask = inputs['input_ids'], inputs['attention_mask']\n",
    "            #outputs = model(**inputs)\n",
    "            outputs = model(ids, mask)\n",
    "            #result = outputs[:,0]\n",
    "            result = outputs.logits[:,0]\n",
    "            loss = BCEWithLogitsLoss()(result, labels.float())\n",
    "            total_loss += loss.mean().item()\n",
    "            val_results.append(result.cpu().detach().numpy())\n",
    "            val_labels.append(labels.cpu().numpy())\n",
    "    results=np.concatenate(val_results,0)\n",
    "    labels=np.concatenate(val_labels,0)\n",
    "    preds=results>0.5\n",
    "    eval_acc=np.mean(labels==preds)\n",
    "    loss = total_loss / step\n",
    "    time.sleep(1)\n",
    "    print(f\"Test set: loss {loss:.4f}, acc {eval_acc:.4f}\")\n",
    "    model.save_pretrained('Limit800/epoch'+str(epoch))"
   ]
  },
  {
   "cell_type": "code",
   "execution_count": 22,
   "metadata": {},
   "outputs": [
    {
     "data": {
      "image/png": "[encoded data removed]",
      "text/plain": [
       "<Figure size 720x360 with 2 Axes>"
      ]
     },
     "metadata": {
      "needs_background": "light"
     },
     "output_type": "display_data"
    }
   ],
   "source": [
    "train_losses = [0.6835, 0.6401, 0.5760, 0.5407, 0.5320]\n",
    "test_losses = [0.6570, 0.6335, 0.6515, 1.0327, 1.3143]\n",
    "train_accs = [0.5620, 0.6272, 0.7049, 0.7788, 0.8322]\n",
    "test_accs = [0.5864, 0.6138, 0.6464, 0.6409, 0.6376]\n",
    "\n",
    "epochs = list(range(1, len(train_losses) + 1))\n",
    "\n",
    "fig, (ax1, ax2) = plt.subplots(1, 2, figsize=(10,5))\n",
    "fig.suptitle('Loss and accuracy per epoch')\n",
    "ax1.plot(epochs, train_losses, label='train')\n",
    "ax1.plot(epochs, test_losses, label='test')\n",
    "ax1.legend()\n",
    "ax1.set_title('Loss')\n",
    "ax2.plot(epochs, train_accs, label='train')\n",
    "ax2.plot(epochs, test_accs, label='test')\n",
    "ax2.legend()\n",
    "ax2.set_title('Accuracy')\n",
    "#plt.show()\n",
    "plt.savefig('lossacc.png', dpi=500)"
   ]
  },
  {
   "cell_type": "code",
   "execution_count": null,
   "metadata": {},
   "outputs": [],
   "source": [
    "plt.plot([s['steps'] for s in stats], [s['loss'] for s in stats])\n",
    "plt.plot([s['steps'] for s in stats], [s['acc'] for s in stats])\n",
    "plt.legend(['loss', 'acc'])\n",
    "plt.show()"
   ]
  },
  {
   "cell_type": "code",
   "execution_count": null,
   "metadata": {},
   "outputs": [],
   "source": [
    "model = RobertaForSequenceClassification.from_pretrained(\"Limit800/epoch4\", config=config)\n",
    "model.to(device)\n",
    "pass"
   ]
  },
  {
   "cell_type": "code",
   "execution_count": null,
   "metadata": {},
   "outputs": [],
   "source": [
    "config = RobertaConfig.from_pretrained(\"microsoft/codebert-base\")\n",
    "config.num_labels = 1\n",
    "model = RobertaForSequenceClassification.from_pretrained(\"Limit800/epoch2\", config=config)\n",
    "model.to(device)\n",
    "#model = Model(model)\n",
    "#model.to(device)\n",
    "\n",
    "model.eval()\n",
    "with torch.no_grad():\n",
    "    bar = tqdm(test_dataloader,total=len(test_dataloader))\n",
    "    total_loss = 0\n",
    "    val_results = []\n",
    "    val_labels = []\n",
    "    for step, batch in enumerate(bar):\n",
    "        inputs = batch[0]\n",
    "        inputs = {key: value.squeeze(1).to(device) for key, value in inputs.items()}\n",
    "        labels = batch[1].to(device)\n",
    "        ids, mask = inputs['input_ids'], inputs['attention_mask']\n",
    "        #outputs = model(**inputs)\n",
    "        outputs = model(ids, mask)\n",
    "        #result = outputs[:,0]\n",
    "        result = outputs.logits[:,0]\n",
    "        loss = BCEWithLogitsLoss()(result, labels.float())\n",
    "        total_loss += loss.mean().item()\n",
    "        val_results.append(result.cpu().detach().numpy())\n",
    "        val_labels.append(labels.cpu().numpy())\n",
    "results=np.concatenate(val_results,0)\n",
    "labels=np.concatenate(val_labels,0)\n",
    "preds=results>0.5\n",
    "eval_acc=np.mean(labels==preds)\n",
    "loss = total_loss / step\n",
    "time.sleep(1)\n",
    "print(f\"loss {loss:.4f}, acc {eval_acc:.4f}\")"
   ]
  }
 ],
 "metadata": {
  "kernelspec": {
   "display_name": "asdl",
   "language": "python",
   "name": "python3"
  },
  "language_info": {
   "codemirror_mode": {
    "name": "ipython",
    "version": 3
   },
   "file_extension": ".py",
   "mimetype": "text/x-python",
   "name": "python",
   "nbconvert_exporter": "python",
   "pygments_lexer": "ipython3",
   "version": "3.9.0"
  },
  "orig_nbformat": 4
 },
 "nbformat": 4,
 "nbformat_minor": 2
}
